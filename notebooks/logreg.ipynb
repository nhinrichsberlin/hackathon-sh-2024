{
 "cells": [
  {
   "cell_type": "code",
   "execution_count": 1,
   "id": "e4839684-49a5-4da1-bb65-bd1a9dac4e28",
   "metadata": {},
   "outputs": [],
   "source": [
    "import os\n",
    "os.chdir('..')"
   ]
  },
  {
   "cell_type": "code",
   "execution_count": 2,
   "id": "c6081b68-1c27-4893-b3c9-2bbdec946dcb",
   "metadata": {},
   "outputs": [],
   "source": [
    "import pandas as pd"
   ]
  },
  {
   "cell_type": "code",
   "execution_count": 3,
   "id": "5d0ccaff-67f0-452c-86a2-eb045c7feecd",
   "metadata": {},
   "outputs": [],
   "source": [
    "from sklearn.linear_model import LogisticRegression\n",
    "from sklearn.metrics import roc_curve, roc_auc_score\n",
    "import matplotlib.pyplot as plt"
   ]
  },
  {
   "cell_type": "code",
   "execution_count": 4,
   "id": "c9de33ce-5163-4156-ae04-d8c407329e4c",
   "metadata": {},
   "outputs": [],
   "source": [
    "lab_clean = pd.read_csv('data/lab_clean.csv').rename({'SUBJECT_ID': 'subject_id'}, axis=1)"
   ]
  },
  {
   "cell_type": "code",
   "execution_count": 5,
   "id": "4699d10d-c572-4e3a-9ff0-bc1a26e0e6f8",
   "metadata": {},
   "outputs": [
    {
     "data": {
      "text/html": [
       "<div>\n",
       "<style scoped>\n",
       "    .dataframe tbody tr th:only-of-type {\n",
       "        vertical-align: middle;\n",
       "    }\n",
       "\n",
       "    .dataframe tbody tr th {\n",
       "        vertical-align: top;\n",
       "    }\n",
       "\n",
       "    .dataframe thead th {\n",
       "        text-align: right;\n",
       "    }\n",
       "</style>\n",
       "<table border=\"1\" class=\"dataframe\">\n",
       "  <thead>\n",
       "    <tr style=\"text-align: right;\">\n",
       "      <th></th>\n",
       "      <th>Unnamed: 0</th>\n",
       "      <th>subject_id</th>\n",
       "      <th>50803</th>\n",
       "      <th>50809</th>\n",
       "      <th>50813</th>\n",
       "      <th>50824</th>\n",
       "      <th>50831</th>\n",
       "      <th>50855</th>\n",
       "      <th>50882</th>\n",
       "      <th>50885</th>\n",
       "      <th>50912</th>\n",
       "      <th>50931</th>\n",
       "      <th>50983</th>\n",
       "      <th>51265</th>\n",
       "      <th>51300</th>\n",
       "      <th>ADMISSION_TYPE_ELECTIVE</th>\n",
       "      <th>ADMISSION_TYPE_EMERGENCY</th>\n",
       "      <th>ADMISSION_TYPE_URGENT</th>\n",
       "      <th>Death</th>\n",
       "    </tr>\n",
       "  </thead>\n",
       "  <tbody>\n",
       "    <tr>\n",
       "      <th>0</th>\n",
       "      <td>0</td>\n",
       "      <td>17</td>\n",
       "      <td>25.0</td>\n",
       "      <td>134.333333</td>\n",
       "      <td>0.900000</td>\n",
       "      <td>137.666667</td>\n",
       "      <td>7.45</td>\n",
       "      <td>13.05</td>\n",
       "      <td>24.352941</td>\n",
       "      <td>0.4</td>\n",
       "      <td>0.752941</td>\n",
       "      <td>114.500000</td>\n",
       "      <td>138.733333</td>\n",
       "      <td>281.750000</td>\n",
       "      <td>7.003922</td>\n",
       "      <td>0.0</td>\n",
       "      <td>1.0</td>\n",
       "      <td>0.0</td>\n",
       "      <td>0.0</td>\n",
       "    </tr>\n",
       "    <tr>\n",
       "      <th>1</th>\n",
       "      <td>1</td>\n",
       "      <td>18</td>\n",
       "      <td>25.0</td>\n",
       "      <td>333.000000</td>\n",
       "      <td>3.600000</td>\n",
       "      <td>137.500000</td>\n",
       "      <td>7.45</td>\n",
       "      <td>13.05</td>\n",
       "      <td>25.857143</td>\n",
       "      <td>1.1</td>\n",
       "      <td>0.957143</td>\n",
       "      <td>221.000000</td>\n",
       "      <td>138.571429</td>\n",
       "      <td>224.166667</td>\n",
       "      <td>7.003922</td>\n",
       "      <td>0.0</td>\n",
       "      <td>1.0</td>\n",
       "      <td>0.0</td>\n",
       "      <td>0.0</td>\n",
       "    </tr>\n",
       "    <tr>\n",
       "      <th>2</th>\n",
       "      <td>2</td>\n",
       "      <td>24</td>\n",
       "      <td>25.0</td>\n",
       "      <td>132.953157</td>\n",
       "      <td>1.843333</td>\n",
       "      <td>137.500000</td>\n",
       "      <td>7.45</td>\n",
       "      <td>13.05</td>\n",
       "      <td>24.000000</td>\n",
       "      <td>0.5</td>\n",
       "      <td>0.925000</td>\n",
       "      <td>117.000000</td>\n",
       "      <td>140.000000</td>\n",
       "      <td>207.000000</td>\n",
       "      <td>7.003922</td>\n",
       "      <td>0.0</td>\n",
       "      <td>1.0</td>\n",
       "      <td>0.0</td>\n",
       "      <td>0.0</td>\n",
       "    </tr>\n",
       "    <tr>\n",
       "      <th>3</th>\n",
       "      <td>3</td>\n",
       "      <td>35</td>\n",
       "      <td>25.0</td>\n",
       "      <td>119.172414</td>\n",
       "      <td>1.843333</td>\n",
       "      <td>139.750000</td>\n",
       "      <td>7.45</td>\n",
       "      <td>13.05</td>\n",
       "      <td>28.100000</td>\n",
       "      <td>0.4</td>\n",
       "      <td>0.700000</td>\n",
       "      <td>133.222222</td>\n",
       "      <td>139.000000</td>\n",
       "      <td>107.500000</td>\n",
       "      <td>7.003922</td>\n",
       "      <td>1.0</td>\n",
       "      <td>0.0</td>\n",
       "      <td>0.0</td>\n",
       "      <td>0.0</td>\n",
       "    </tr>\n",
       "    <tr>\n",
       "      <th>4</th>\n",
       "      <td>4</td>\n",
       "      <td>85</td>\n",
       "      <td>24.0</td>\n",
       "      <td>117.150000</td>\n",
       "      <td>1.250000</td>\n",
       "      <td>135.714286</td>\n",
       "      <td>7.45</td>\n",
       "      <td>13.05</td>\n",
       "      <td>24.187500</td>\n",
       "      <td>0.4</td>\n",
       "      <td>1.127778</td>\n",
       "      <td>102.466667</td>\n",
       "      <td>136.600000</td>\n",
       "      <td>96.695652</td>\n",
       "      <td>7.003922</td>\n",
       "      <td>0.0</td>\n",
       "      <td>1.0</td>\n",
       "      <td>0.0</td>\n",
       "      <td>0.0</td>\n",
       "    </tr>\n",
       "  </tbody>\n",
       "</table>\n",
       "</div>"
      ],
      "text/plain": [
       "   Unnamed: 0  subject_id  50803       50809     50813       50824  50831  \\\n",
       "0           0          17   25.0  134.333333  0.900000  137.666667   7.45   \n",
       "1           1          18   25.0  333.000000  3.600000  137.500000   7.45   \n",
       "2           2          24   25.0  132.953157  1.843333  137.500000   7.45   \n",
       "3           3          35   25.0  119.172414  1.843333  139.750000   7.45   \n",
       "4           4          85   24.0  117.150000  1.250000  135.714286   7.45   \n",
       "\n",
       "   50855      50882  50885     50912       50931       50983       51265  \\\n",
       "0  13.05  24.352941    0.4  0.752941  114.500000  138.733333  281.750000   \n",
       "1  13.05  25.857143    1.1  0.957143  221.000000  138.571429  224.166667   \n",
       "2  13.05  24.000000    0.5  0.925000  117.000000  140.000000  207.000000   \n",
       "3  13.05  28.100000    0.4  0.700000  133.222222  139.000000  107.500000   \n",
       "4  13.05  24.187500    0.4  1.127778  102.466667  136.600000   96.695652   \n",
       "\n",
       "      51300  ADMISSION_TYPE_ELECTIVE  ADMISSION_TYPE_EMERGENCY  \\\n",
       "0  7.003922                      0.0                       1.0   \n",
       "1  7.003922                      0.0                       1.0   \n",
       "2  7.003922                      0.0                       1.0   \n",
       "3  7.003922                      1.0                       0.0   \n",
       "4  7.003922                      0.0                       1.0   \n",
       "\n",
       "   ADMISSION_TYPE_URGENT  Death  \n",
       "0                    0.0    0.0  \n",
       "1                    0.0    0.0  \n",
       "2                    0.0    0.0  \n",
       "3                    0.0    0.0  \n",
       "4                    0.0    0.0  "
      ]
     },
     "execution_count": 5,
     "metadata": {},
     "output_type": "execute_result"
    }
   ],
   "source": [
    "lab_clean.head()"
   ]
  },
  {
   "cell_type": "code",
   "execution_count": 6,
   "id": "629ceef6-74f3-4b9f-bec0-c2489e4c8aa1",
   "metadata": {},
   "outputs": [],
   "source": [
    "nlp = pd.read_csv('data/results_nlp.csv')"
   ]
  },
  {
   "cell_type": "code",
   "execution_count": 7,
   "id": "21473ef4-6fe1-498c-9996-604471acb144",
   "metadata": {},
   "outputs": [],
   "source": [
    "data = lab_clean.join(nlp.set_index('subject_id'), on='subject_id', how='left')"
   ]
  },
  {
   "cell_type": "code",
   "execution_count": 8,
   "id": "63b43934-73c2-45ff-a272-4efad75c00ae",
   "metadata": {},
   "outputs": [],
   "source": [
    "for c in ['lvef', 'tamponade', 'aorta']:\n",
    "    data[c] = data[c].fillna(data[c].median())"
   ]
  },
  {
   "cell_type": "code",
   "execution_count": 9,
   "id": "4a4f2d99-64c3-4064-be7a-922bf5d462e0",
   "metadata": {},
   "outputs": [],
   "source": [
    "for i in [1, 2, 3, 4]:\n",
    "    data[f'lvef_{i}'] = data.lvef == i"
   ]
  },
  {
   "cell_type": "code",
   "execution_count": 10,
   "id": "16373a69-7adc-4dda-a36b-fc18bddfd441",
   "metadata": {},
   "outputs": [
    {
     "data": {
      "text/plain": [
       "Index(['Unnamed: 0', 'subject_id', '50803', '50809', '50813', '50824', '50831',\n",
       "       '50855', '50882', '50885', '50912', '50931', '50983', '51265', '51300',\n",
       "       'ADMISSION_TYPE_ELECTIVE', 'ADMISSION_TYPE_EMERGENCY',\n",
       "       'ADMISSION_TYPE_URGENT', 'Death', 'lvef', 'tamponade', 'aorta',\n",
       "       'lvef_1', 'lvef_2', 'lvef_3', 'lvef_4'],\n",
       "      dtype='object')"
      ]
     },
     "execution_count": 10,
     "metadata": {},
     "output_type": "execute_result"
    }
   ],
   "source": [
    "data.columns"
   ]
  },
  {
   "cell_type": "code",
   "execution_count": 11,
   "id": "f97c9366-e51a-4dd7-b3cc-1ebcb85b73f6",
   "metadata": {},
   "outputs": [],
   "source": [
    "features_base = [\n",
    "    '50803',\n",
    "    '50809',\n",
    "    '50813',\n",
    "    '50824',\n",
    "    '50831',\n",
    "    '50855',\n",
    "    '50882',\n",
    "    '50885',\n",
    "    '50912',\n",
    "    '50931', \n",
    "    '50983',\n",
    "    '51265', \n",
    "    '51300',\n",
    "    'ADMISSION_TYPE_ELECTIVE',\n",
    "    'ADMISSION_TYPE_EMERGENCY',\n",
    "]"
   ]
  },
  {
   "cell_type": "code",
   "execution_count": 12,
   "id": "8bb8e719-f421-40f5-875e-94323291bac4",
   "metadata": {},
   "outputs": [],
   "source": [
    "features_nlp = [\n",
    "    'lvef_1',\n",
    "    'lvef_2',\n",
    "    'lvef_3',\n",
    "    'lvef_4',\n",
    "    'tamponade',\n",
    "    'aorta'\n",
    "]"
   ]
  },
  {
   "cell_type": "code",
   "execution_count": 13,
   "id": "721cc110-d9bf-4689-ab5c-3c8a54d92884",
   "metadata": {},
   "outputs": [],
   "source": [
    "outcome = 'Death'"
   ]
  },
  {
   "cell_type": "code",
   "execution_count": 14,
   "id": "4b4bc771-9a5e-4803-8f3b-bd1e0aae3c36",
   "metadata": {},
   "outputs": [],
   "source": [
    "logreg_base = LogisticRegression(max_iter=10000)"
   ]
  },
  {
   "cell_type": "code",
   "execution_count": 15,
   "id": "d2347dbf-03a5-4974-8afc-7f79425d41de",
   "metadata": {},
   "outputs": [],
   "source": [
    "logreg_base = logreg_base.fit(data[features_base], data[outcome])"
   ]
  },
  {
   "cell_type": "code",
   "execution_count": 16,
   "id": "c32aa549-c584-438b-9268-3f7223320def",
   "metadata": {},
   "outputs": [],
   "source": [
    "predictions_base = logreg_base.predict_proba(data[features_base])"
   ]
  },
  {
   "cell_type": "code",
   "execution_count": 17,
   "id": "a3d35456-3827-4a1d-a8b4-8129916daa2e",
   "metadata": {},
   "outputs": [],
   "source": [
    "logreg_nlp_only = LogisticRegression(max_iter=10000)\n",
    "logreg_nlp_only = logreg_nlp_only.fit(data[features_nlp], data[outcome])\n",
    "predictions_nlp_only = logreg_nlp_only.predict_proba(data[features_nlp])"
   ]
  },
  {
   "cell_type": "code",
   "execution_count": 18,
   "id": "faa8103d-bc5a-4b2f-a38e-dba2a1f62a36",
   "metadata": {},
   "outputs": [],
   "source": [
    "logreg_nlp = LogisticRegression(max_iter=10000)"
   ]
  },
  {
   "cell_type": "code",
   "execution_count": 19,
   "id": "42dd69c9-bdc7-451e-868b-fed0d07709b6",
   "metadata": {},
   "outputs": [],
   "source": [
    "logreg_nlp = logreg_nlp.fit(data[features_base + features_nlp], data[outcome])"
   ]
  },
  {
   "cell_type": "code",
   "execution_count": 20,
   "id": "e9dfec32-7e25-4000-9853-964fc888e66d",
   "metadata": {},
   "outputs": [],
   "source": [
    "predictions_nlp = logreg_nlp.predict_proba(data[features_base + features_nlp])"
   ]
  },
  {
   "cell_type": "code",
   "execution_count": 21,
   "id": "8921718e-fc06-4ed0-a24c-5dcf31c432b9",
   "metadata": {},
   "outputs": [
    {
     "data": {
      "text/plain": [
       "array([0.05488891, 0.16483368, 0.09578951, ..., 0.07395839, 0.04188583,\n",
       "       0.09887521])"
      ]
     },
     "execution_count": 21,
     "metadata": {},
     "output_type": "execute_result"
    }
   ],
   "source": [
    "predictions_base[:, 1]"
   ]
  },
  {
   "cell_type": "code",
   "execution_count": 22,
   "id": "633d16e8-c939-4a63-adb0-1550d58e1206",
   "metadata": {},
   "outputs": [],
   "source": [
    "results = pd.DataFrame({\n",
    "    'y_true': data[outcome],\n",
    "    'y_hat_base': predictions_base[:,1],\n",
    "    'y_hat_nlp': predictions_nlp[:, 1],\n",
    "    'y_hat_nlp_only': predictions_nlp_only[:, 1]\n",
    "})"
   ]
  },
  {
   "cell_type": "code",
   "execution_count": 23,
   "id": "2a86c089-e966-4f7c-9c01-0fb6f88d7e6d",
   "metadata": {},
   "outputs": [
    {
     "data": {
      "text/html": [
       "<div>\n",
       "<style scoped>\n",
       "    .dataframe tbody tr th:only-of-type {\n",
       "        vertical-align: middle;\n",
       "    }\n",
       "\n",
       "    .dataframe tbody tr th {\n",
       "        vertical-align: top;\n",
       "    }\n",
       "\n",
       "    .dataframe thead th {\n",
       "        text-align: right;\n",
       "    }\n",
       "</style>\n",
       "<table border=\"1\" class=\"dataframe\">\n",
       "  <thead>\n",
       "    <tr style=\"text-align: right;\">\n",
       "      <th></th>\n",
       "      <th>y_true</th>\n",
       "      <th>y_hat_base</th>\n",
       "      <th>y_hat_nlp</th>\n",
       "      <th>y_hat_nlp_only</th>\n",
       "    </tr>\n",
       "  </thead>\n",
       "  <tbody>\n",
       "    <tr>\n",
       "      <th>0</th>\n",
       "      <td>0.0</td>\n",
       "      <td>0.054889</td>\n",
       "      <td>0.055012</td>\n",
       "      <td>0.099089</td>\n",
       "    </tr>\n",
       "    <tr>\n",
       "      <th>1</th>\n",
       "      <td>0.0</td>\n",
       "      <td>0.164834</td>\n",
       "      <td>0.164020</td>\n",
       "      <td>0.099089</td>\n",
       "    </tr>\n",
       "    <tr>\n",
       "      <th>2</th>\n",
       "      <td>0.0</td>\n",
       "      <td>0.095790</td>\n",
       "      <td>0.096873</td>\n",
       "      <td>0.099089</td>\n",
       "    </tr>\n",
       "    <tr>\n",
       "      <th>3</th>\n",
       "      <td>0.0</td>\n",
       "      <td>0.009475</td>\n",
       "      <td>0.009676</td>\n",
       "      <td>0.099089</td>\n",
       "    </tr>\n",
       "    <tr>\n",
       "      <th>4</th>\n",
       "      <td>0.0</td>\n",
       "      <td>0.058064</td>\n",
       "      <td>0.057351</td>\n",
       "      <td>0.099089</td>\n",
       "    </tr>\n",
       "    <tr>\n",
       "      <th>...</th>\n",
       "      <td>...</td>\n",
       "      <td>...</td>\n",
       "      <td>...</td>\n",
       "      <td>...</td>\n",
       "    </tr>\n",
       "    <tr>\n",
       "      <th>1747</th>\n",
       "      <td>1.0</td>\n",
       "      <td>0.155671</td>\n",
       "      <td>0.159547</td>\n",
       "      <td>0.099089</td>\n",
       "    </tr>\n",
       "    <tr>\n",
       "      <th>1748</th>\n",
       "      <td>0.0</td>\n",
       "      <td>0.013275</td>\n",
       "      <td>0.013390</td>\n",
       "      <td>0.099089</td>\n",
       "    </tr>\n",
       "    <tr>\n",
       "      <th>1749</th>\n",
       "      <td>0.0</td>\n",
       "      <td>0.073958</td>\n",
       "      <td>0.072954</td>\n",
       "      <td>0.099089</td>\n",
       "    </tr>\n",
       "    <tr>\n",
       "      <th>1750</th>\n",
       "      <td>0.0</td>\n",
       "      <td>0.041886</td>\n",
       "      <td>0.028105</td>\n",
       "      <td>0.064103</td>\n",
       "    </tr>\n",
       "    <tr>\n",
       "      <th>1751</th>\n",
       "      <td>0.0</td>\n",
       "      <td>0.098875</td>\n",
       "      <td>0.098565</td>\n",
       "      <td>0.099089</td>\n",
       "    </tr>\n",
       "  </tbody>\n",
       "</table>\n",
       "<p>1752 rows × 4 columns</p>\n",
       "</div>"
      ],
      "text/plain": [
       "      y_true  y_hat_base  y_hat_nlp  y_hat_nlp_only\n",
       "0        0.0    0.054889   0.055012        0.099089\n",
       "1        0.0    0.164834   0.164020        0.099089\n",
       "2        0.0    0.095790   0.096873        0.099089\n",
       "3        0.0    0.009475   0.009676        0.099089\n",
       "4        0.0    0.058064   0.057351        0.099089\n",
       "...      ...         ...        ...             ...\n",
       "1747     1.0    0.155671   0.159547        0.099089\n",
       "1748     0.0    0.013275   0.013390        0.099089\n",
       "1749     0.0    0.073958   0.072954        0.099089\n",
       "1750     0.0    0.041886   0.028105        0.064103\n",
       "1751     0.0    0.098875   0.098565        0.099089\n",
       "\n",
       "[1752 rows x 4 columns]"
      ]
     },
     "execution_count": 23,
     "metadata": {},
     "output_type": "execute_result"
    }
   ],
   "source": [
    "results"
   ]
  },
  {
   "cell_type": "code",
   "execution_count": 24,
   "id": "1c37523b-afdb-497f-8870-1b7852c38c85",
   "metadata": {},
   "outputs": [],
   "source": [
    "fpr_base, tpr_base, t_base = roc_curve(results.y_true, results.y_hat_base)\n",
    "roc_auc_base = roc_auc_score(results.y_true, results.y_hat_base)"
   ]
  },
  {
   "cell_type": "code",
   "execution_count": 25,
   "id": "d4885cae-2280-4734-adf6-2d224e2c557c",
   "metadata": {},
   "outputs": [],
   "source": [
    "fpr_nlp, tpr_nlp, t_nlp = roc_curve(results.y_true, results.y_hat_nlp)\n",
    "roc_auc_nlp = roc_auc_score(results.y_true, results.y_hat_nlp)"
   ]
  },
  {
   "cell_type": "code",
   "execution_count": 26,
   "id": "fc944585-174f-4882-bfbb-0bd4143c1038",
   "metadata": {},
   "outputs": [],
   "source": [
    "fpr_nlp_only, tpr_nlp_only, t_nlp_only = roc_curve(results.y_true, results.y_hat_nlp_only)\n",
    "roc_auc_nlp_only = roc_auc_score(results.y_true, results.y_hat_nlp_only)"
   ]
  },
  {
   "cell_type": "code",
   "execution_count": 27,
   "id": "f69ec15d-90b5-4f93-bc4c-5557c9fc3f51",
   "metadata": {},
   "outputs": [
    {
     "data": {
      "image/png": "[encoded data removed]",
      "text/plain": [
       "<Figure size 800x800 with 1 Axes>"
      ]
     },
     "metadata": {},
     "output_type": "display_data"
    }
   ],
   "source": [
    "_ = plt.figure(figsize=(8, 8))\n",
    "_ = plt.plot(fpr_base, tpr_base, color='blue', lw=2, label='Base Model (AUC = %0.2f)' % roc_auc_base)\n",
    "_ = plt.plot(fpr_nlp, tpr_nlp, color='red', lw=2, label='NLP-enhanced Model (AUC = %0.2f)' % roc_auc_nlp)\n",
    "_ = plt.plot(fpr_nlp_only, tpr_nlp_only, color='green', lw=2, label='NLP-only Model (AUC = %0.2f)' % roc_auc_nlp_only)\n",
    "_ = plt.plot([0, 1], [0, 1], color='black', alpha=0.5)\n",
    "_ = plt.xlim(0, 1)\n",
    "_ = plt.ylim(0, 1)\n",
    "plt.xlabel('False Positive Rate')\n",
    "plt.ylabel('True Positive Rate')\n",
    "_ = plt.legend(loc='lower right')\n",
    "_ = plt.title('ROC of the Baseline and the NLP models')\n",
    "\n",
    "_ = plt.savefig('roc_curve.png', dpi=300)"
   ]
  }
 ],
 "metadata": {
  "kernelspec": {
   "display_name": "Python 3 (ipykernel)",
   "language": "python",
   "name": "python3"
  },
  "language_info": {
   "codemirror_mode": {
    "name": "ipython",
    "version": 3
   },
   "file_extension": ".py",
   "mimetype": "text/x-python",
   "name": "python",
   "nbconvert_exporter": "python",
   "pygments_lexer": "ipython3",
   "version": "3.11.0"
  }
 },
 "nbformat": 4,
 "nbformat_minor": 5
}
